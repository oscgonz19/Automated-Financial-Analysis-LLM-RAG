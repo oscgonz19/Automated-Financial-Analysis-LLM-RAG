{
 "cells": [
  {
   "cell_type": "markdown",
   "metadata": {},
   "source": [
    "# Análisis Financiero con Modelos de Lenguaje Natural (LLM)\n",
    "\n",
    "## Introducción\n",
    "\n",
    "Este notebook demuestra el uso de modelos de lenguaje natural (LLM) para el análisis financiero. Incluye la recopilación de datos, el preprocesamiento, el entrenamiento de modelos y la evaluación.\n",
    "\n",
    "## Índice\n",
    "1. [Importación de Librerías](#importacion-librerias)\n",
    "2. [Carga de Datos](#carga-datos)\n",
    "3. [Preprocesamiento de Datos](#preprocesamiento-datos)\n",
    "4. [Entrenamiento del Modelo](#entrenamiento-modelo)\n",
    "5. [Evaluación del Modelo](#evaluacion-modelo)\n",
    "6. [Conclusiones](#conclusiones)\n",
    "\n",
    "<a id=\"importacion-librerias\"></a>"
   ]
  },
  {
   "cell_type": "markdown",
   "metadata": {},
   "source": [
    "## 1. Importación de Librerías\n",
    "\n",
    "En esta sección, importamos las librerías necesarias para el análisis."
   ]
  },
  {
   "cell_type": "code",
   "execution_count": 1,
   "metadata": {},
   "outputs": [],
   "source": [
    "\n",
    "from typing import Any\n",
    "\n",
    "import os\n",
    "\n",
    "from pydantic import BaseModel\n",
    "\n",
    "from unstructured.partition.pdf import partition_pdf"
   ]
  },
  {
   "cell_type": "code",
   "execution_count": 2,
   "metadata": {},
   "outputs": [],
   "source": [
    "import os\n",
    "import json\n",
    "import pprint\n",
    "import openai\n",
    "import chromadb\n",
    "\n",
    "from chromadb.utils import embedding_functions\n",
    "from unstructured.partition.pdf import partition_pdf\n",
    "from unstructured.staging.base import elements_to_json"
   ]
  },
  {
   "cell_type": "markdown",
   "metadata": {},
   "source": [
    "Definición del Nombre del Archivo PDF\n",
    "Definimos el nombre del archivo PDF que será analizado. En este caso, estamos utilizando el informe \"10-Q\" de 2023 de Grainger.\n",
    "\n",
    "Establecimiento del Directorio y Ruta de Salida\n",
    "Obtenemos el directorio actual donde se está ejecutando el notebook y construimos la ruta completa hacia el archivo PDF de entrada. Esto asegura que podamos acceder al archivo sin importar dónde esté ubicado el notebook."
   ]
  },
  {
   "cell_type": "markdown",
   "metadata": {},
   "source": [
    "# Establecimiento del Directorio y Ruta de Salida\n",
    "Obtenemos el directorio actual donde se está ejecutando el notebook y construimos la ruta completa hacia el archivo PDF de entrada. Esto asegura que podamos acceder al archivo sin importar dónde esté ubicado el notebook."
   ]
  },
  {
   "cell_type": "code",
   "execution_count": 3,
   "metadata": {},
   "outputs": [],
   "source": [
    "filename = \"grainder report 10-q 2023.pdf\"\n",
    "# Directorio actual del notebook\n",
    "current_directory = os.getcwd()\n",
    "\n",
    "# Ruta completa del archivo de salida\n",
    "output_path = os.path.join(current_directory, filename)"
   ]
  },
  {
   "cell_type": "code",
   "execution_count": 4,
   "metadata": {},
   "outputs": [],
   "source": [
    "# Define parameters for Unstructured's library\n",
    "strategy = \"hi_res\"  # Used for analyzing PDFs and extracting table structure\n",
    "# Best model for table extraction. Other options are detectron2_onnx and chipper depending on file layout\n",
    "model_name = \"yolox\""
   ]
  },
  {
   "cell_type": "code",
   "execution_count": 6,
   "metadata": {},
   "outputs": [
    {
     "name": "stdout",
     "output_type": "stream",
     "text": [
      "Requirement already satisfied: transformers in /home/ozz/anaconda3/envs/envopenai/lib/python3.11/site-packages (4.32.1)\n",
      "Collecting transformers\n",
      "  Downloading transformers-4.42.4-py3-none-any.whl.metadata (43 kB)\n",
      "\u001b[2K     \u001b[90m━━━━━━━━━━━━━━━━━━━━━━━━━━━━━━━━━━━━━━━\u001b[0m \u001b[32m43.6/43.6 kB\u001b[0m \u001b[31m185.1 kB/s\u001b[0m eta \u001b[36m0:00:00\u001b[0ma \u001b[36m0:00:01\u001b[0m\n",
      "\u001b[?25hRequirement already satisfied: filelock in /home/ozz/anaconda3/envs/envopenai/lib/python3.11/site-packages (from transformers) (3.9.0)\n",
      "Collecting huggingface-hub<1.0,>=0.23.2 (from transformers)\n",
      "  Downloading huggingface_hub-0.23.4-py3-none-any.whl.metadata (12 kB)\n",
      "Requirement already satisfied: numpy<2.0,>=1.17 in /home/ozz/anaconda3/envs/envopenai/lib/python3.11/site-packages (from transformers) (1.24.3)\n",
      "Requirement already satisfied: packaging>=20.0 in /home/ozz/anaconda3/envs/envopenai/lib/python3.11/site-packages (from transformers) (23.2)\n",
      "Requirement already satisfied: pyyaml>=5.1 in /home/ozz/anaconda3/envs/envopenai/lib/python3.11/site-packages (from transformers) (6.0.1)\n",
      "Requirement already satisfied: regex!=2019.12.17 in /home/ozz/anaconda3/envs/envopenai/lib/python3.11/site-packages (from transformers) (2023.12.25)\n",
      "Requirement already satisfied: requests in /home/ozz/anaconda3/envs/envopenai/lib/python3.11/site-packages (from transformers) (2.31.0)\n",
      "Collecting safetensors>=0.4.1 (from transformers)\n",
      "  Downloading safetensors-0.4.3-cp311-cp311-manylinux_2_17_x86_64.manylinux2014_x86_64.whl.metadata (3.8 kB)\n",
      "Requirement already satisfied: tokenizers<0.20,>=0.19 in /home/ozz/anaconda3/envs/envopenai/lib/python3.11/site-packages (from transformers) (0.19.1)\n",
      "Requirement already satisfied: tqdm>=4.27 in /home/ozz/anaconda3/envs/envopenai/lib/python3.11/site-packages (from transformers) (4.66.2)\n",
      "Requirement already satisfied: fsspec>=2023.5.0 in /home/ozz/anaconda3/envs/envopenai/lib/python3.11/site-packages (from huggingface-hub<1.0,>=0.23.2->transformers) (2023.12.2)\n",
      "Requirement already satisfied: typing-extensions>=3.7.4.3 in /home/ozz/anaconda3/envs/envopenai/lib/python3.11/site-packages (from huggingface-hub<1.0,>=0.23.2->transformers) (4.10.0)\n",
      "Requirement already satisfied: charset-normalizer<4,>=2 in /home/ozz/anaconda3/envs/envopenai/lib/python3.11/site-packages (from requests->transformers) (3.3.2)\n",
      "Requirement already satisfied: idna<4,>=2.5 in /home/ozz/anaconda3/envs/envopenai/lib/python3.11/site-packages (from requests->transformers) (3.6)\n",
      "Requirement already satisfied: urllib3<3,>=1.21.1 in /home/ozz/anaconda3/envs/envopenai/lib/python3.11/site-packages (from requests->transformers) (1.26.18)\n",
      "Requirement already satisfied: certifi>=2017.4.17 in /home/ozz/anaconda3/envs/envopenai/lib/python3.11/site-packages (from requests->transformers) (2024.2.2)\n",
      "Downloading transformers-4.42.4-py3-none-any.whl (9.3 MB)\n",
      "\u001b[2K   \u001b[91m━━━━\u001b[0m\u001b[90m╺\u001b[0m\u001b[90m━━━━━━━━━━━━━━━━━━━━━━━━━━━━━━━━━━━\u001b[0m \u001b[32m1.0/9.3 MB\u001b[0m \u001b[31m4.9 kB/s\u001b[0m eta \u001b[36m0:28:08\u001b[0mm\n",
      "\u001b[?25h\u001b[31mERROR: Exception:\n",
      "Traceback (most recent call last):\n",
      "  File \"/home/ozz/anaconda3/envs/envopenai/lib/python3.11/site-packages/pip/_vendor/urllib3/response.py\", line 438, in _error_catcher\n",
      "    yield\n",
      "  File \"/home/ozz/anaconda3/envs/envopenai/lib/python3.11/site-packages/pip/_vendor/urllib3/response.py\", line 561, in read\n",
      "    data = self._fp_read(amt) if not fp_closed else b\"\"\n",
      "           ^^^^^^^^^^^^^^^^^^\n",
      "  File \"/home/ozz/anaconda3/envs/envopenai/lib/python3.11/site-packages/pip/_vendor/urllib3/response.py\", line 527, in _fp_read\n",
      "    return self._fp.read(amt) if amt is not None else self._fp.read()\n",
      "           ^^^^^^^^^^^^^^^^^^\n",
      "  File \"/home/ozz/anaconda3/envs/envopenai/lib/python3.11/site-packages/pip/_vendor/cachecontrol/filewrapper.py\", line 98, in read\n",
      "    data: bytes = self.__fp.read(amt)\n",
      "                  ^^^^^^^^^^^^^^^^^^^\n",
      "  File \"/home/ozz/anaconda3/envs/envopenai/lib/python3.11/http/client.py\", line 466, in read\n",
      "    s = self.fp.read(amt)\n",
      "        ^^^^^^^^^^^^^^^^^\n",
      "  File \"/home/ozz/anaconda3/envs/envopenai/lib/python3.11/socket.py\", line 706, in readinto\n",
      "    return self._sock.recv_into(b)\n",
      "           ^^^^^^^^^^^^^^^^^^^^^^^\n",
      "  File \"/home/ozz/anaconda3/envs/envopenai/lib/python3.11/ssl.py\", line 1311, in recv_into\n",
      "    return self.read(nbytes, buffer)\n",
      "           ^^^^^^^^^^^^^^^^^^^^^^^^^\n",
      "  File \"/home/ozz/anaconda3/envs/envopenai/lib/python3.11/ssl.py\", line 1167, in read\n",
      "    return self._sslobj.read(len, buffer)\n",
      "           ^^^^^^^^^^^^^^^^^^^^^^^^^^^^^^\n",
      "TimeoutError: The read operation timed out\n",
      "\n",
      "During handling of the above exception, another exception occurred:\n",
      "\n",
      "Traceback (most recent call last):\n",
      "  File \"/home/ozz/anaconda3/envs/envopenai/lib/python3.11/site-packages/pip/_internal/cli/base_command.py\", line 180, in exc_logging_wrapper\n",
      "    status = run_func(*args)\n",
      "             ^^^^^^^^^^^^^^^\n",
      "  File \"/home/ozz/anaconda3/envs/envopenai/lib/python3.11/site-packages/pip/_internal/cli/req_command.py\", line 245, in wrapper\n",
      "    return func(self, options, args)\n",
      "           ^^^^^^^^^^^^^^^^^^^^^^^^^\n",
      "  File \"/home/ozz/anaconda3/envs/envopenai/lib/python3.11/site-packages/pip/_internal/commands/install.py\", line 377, in run\n",
      "    requirement_set = resolver.resolve(\n",
      "                      ^^^^^^^^^^^^^^^^^\n",
      "  File \"/home/ozz/anaconda3/envs/envopenai/lib/python3.11/site-packages/pip/_internal/resolution/resolvelib/resolver.py\", line 179, in resolve\n",
      "    self.factory.preparer.prepare_linked_requirements_more(reqs)\n",
      "  File \"/home/ozz/anaconda3/envs/envopenai/lib/python3.11/site-packages/pip/_internal/operations/prepare.py\", line 552, in prepare_linked_requirements_more\n",
      "    self._complete_partial_requirements(\n",
      "  File \"/home/ozz/anaconda3/envs/envopenai/lib/python3.11/site-packages/pip/_internal/operations/prepare.py\", line 467, in _complete_partial_requirements\n",
      "    for link, (filepath, _) in batch_download:\n",
      "  File \"/home/ozz/anaconda3/envs/envopenai/lib/python3.11/site-packages/pip/_internal/network/download.py\", line 183, in __call__\n",
      "    for chunk in chunks:\n",
      "  File \"/home/ozz/anaconda3/envs/envopenai/lib/python3.11/site-packages/pip/_internal/cli/progress_bars.py\", line 53, in _rich_progress_bar\n",
      "    for chunk in iterable:\n",
      "  File \"/home/ozz/anaconda3/envs/envopenai/lib/python3.11/site-packages/pip/_internal/network/utils.py\", line 63, in response_chunks\n",
      "    for chunk in response.raw.stream(\n",
      "  File \"/home/ozz/anaconda3/envs/envopenai/lib/python3.11/site-packages/pip/_vendor/urllib3/response.py\", line 622, in stream\n",
      "    data = self.read(amt=amt, decode_content=decode_content)\n",
      "           ^^^^^^^^^^^^^^^^^^^^^^^^^^^^^^^^^^^^^^^^^^^^^^^^^\n",
      "  File \"/home/ozz/anaconda3/envs/envopenai/lib/python3.11/site-packages/pip/_vendor/urllib3/response.py\", line 560, in read\n",
      "    with self._error_catcher():\n",
      "  File \"/home/ozz/anaconda3/envs/envopenai/lib/python3.11/contextlib.py\", line 155, in __exit__\n",
      "    self.gen.throw(typ, value, traceback)\n",
      "  File \"/home/ozz/anaconda3/envs/envopenai/lib/python3.11/site-packages/pip/_vendor/urllib3/response.py\", line 443, in _error_catcher\n",
      "    raise ReadTimeoutError(self._pool, None, \"Read timed out.\")\n",
      "pip._vendor.urllib3.exceptions.ReadTimeoutError: HTTPSConnectionPool(host='files.pythonhosted.org', port=443): Read timed out.\u001b[0m\u001b[31m\n",
      "\u001b[0mNote: you may need to restart the kernel to use updated packages.\n"
     ]
    }
   ],
   "source": [
    "pip install transformers -U"
   ]
  },
  {
   "cell_type": "code",
   "execution_count": 8,
   "metadata": {},
   "outputs": [
    {
     "name": "stdout",
     "output_type": "stream",
     "text": [
      "Collecting tokenizers==0.13.3\n",
      "  Downloading tokenizers-0.13.3-cp311-cp311-manylinux_2_17_x86_64.manylinux2014_x86_64.whl.metadata (6.7 kB)\n",
      "Downloading tokenizers-0.13.3-cp311-cp311-manylinux_2_17_x86_64.manylinux2014_x86_64.whl (7.8 MB)\n",
      "\u001b[2K   \u001b[90m━━━━━━━━━━━━━━━━━━━━━━━━━━━━━━━━━━━━━━━━\u001b[0m \u001b[32m7.8/7.8 MB\u001b[0m \u001b[31m124.4 kB/s\u001b[0m eta \u001b[36m0:00:00\u001b[0m00:01\u001b[0m00:02\u001b[0m\n",
      "\u001b[?25hInstalling collected packages: tokenizers\n",
      "  Attempting uninstall: tokenizers\n",
      "    Found existing installation: tokenizers 0.19.1\n",
      "    Uninstalling tokenizers-0.19.1:\n",
      "      Successfully uninstalled tokenizers-0.19.1\n",
      "Successfully installed tokenizers-0.13.3\n",
      "Note: you may need to restart the kernel to use updated packages.\n"
     ]
    }
   ],
   "source": [
    "pip install tokenizers==0.13.3\n"
   ]
  },
  {
   "cell_type": "code",
   "execution_count": 9,
   "metadata": {},
   "outputs": [
    {
     "name": "stdout",
     "output_type": "stream",
     "text": [
      "4.32.1\n",
      "0.13.3\n"
     ]
    }
   ],
   "source": [
    "import transformers\n",
    "import tokenizers\n",
    "\n",
    "print(transformers.__version__)\n",
    "print(tokenizers.__version__)\n"
   ]
  },
  {
   "cell_type": "code",
   "execution_count": 10,
   "metadata": {},
   "outputs": [
    {
     "name": "stderr",
     "output_type": "stream",
     "text": [
      "Some weights of the model checkpoint at microsoft/table-transformer-structure-recognition were not used when initializing TableTransformerForObjectDetection: ['model.backbone.conv_encoder.model.layer4.0.downsample.1.num_batches_tracked', 'model.backbone.conv_encoder.model.layer3.0.downsample.1.num_batches_tracked', 'model.backbone.conv_encoder.model.layer2.0.downsample.1.num_batches_tracked']\n",
      "- This IS expected if you are initializing TableTransformerForObjectDetection from the checkpoint of a model trained on another task or with another architecture (e.g. initializing a BertForSequenceClassification model from a BertForPreTraining model).\n",
      "- This IS NOT expected if you are initializing TableTransformerForObjectDetection from the checkpoint of a model that you expect to be exactly identical (initializing a BertForSequenceClassification model from a BertForSequenceClassification model).\n"
     ]
    }
   ],
   "source": [
    "elements = partition_pdf(filename=filename, strategy=strategy,\n",
    "                         infer_table_structure=True, model_name=model_name)"
   ]
  },
  {
   "cell_type": "markdown",
   "metadata": {},
   "source": [
    "## Extracción de Elementos del PDF\n",
    "\n",
    "En esta sección, utilizamos la biblioteca `unstructured` para particionar el contenido del PDF y extraer su estructura, incluyendo las tablas.\n",
    "\n",
    "### Particionamiento del PDF\n",
    "\n",
    "Utilizamos la función `partition_pdf` para analizar el PDF especificado y extraer sus elementos. Configuramos la estrategia de análisis como \"hi_res\" y usamos el modelo \"yolox\" para inferir la estructura de las tablas."
   ]
  },
  {
   "cell_type": "code",
   "execution_count": 11,
   "metadata": {},
   "outputs": [],
   "source": [
    "elements_to_json(elements, filename=f\"{filename}.json\")"
   ]
  },
  {
   "cell_type": "code",
   "execution_count": 13,
   "metadata": {},
   "outputs": [],
   "source": [
    "\n",
    "#Aqui se procesan los datos, se extraen los elementos de la tabla y se escriben en un archivo de texto\n",
    "# json.load(file) para cargar el contenido del archivo JSON en la variable data. Esto convierte el JSON en una estructura de datos de Python, como una lista o un diccionario, dependiendo del contenido del archivo JSON.\n",
    "def process_json_file(input_filename):\n",
    "    # Read the JSON file\n",
    "    with open(input_filename, 'r') as file:\n",
    "        data = json.load(file)\n",
    "\n",
    "    # Iterate over the JSON data and extract required table elements\n",
    "    extracted_elements = []\n",
    "    # Si una entrada es de tipo \"Table\", extrae el texto HTML almacenado en entry[\"metadata\"][\"text_as_html\"] y lo añade a la lista extracted_elements.\n",
    "    for entry in data:\n",
    "        if entry[\"type\"] == \"Table\":\n",
    "            extracted_elements.append(entry[\"metadata\"][\"text_as_html\"])\n",
    "\n",
    "    # Get the directory of the input filename\n",
    "    output_dir = os.path.dirname(input_filename)\n",
    "\n",
    "    # Construct the output filename\n",
    "    output_filename = os.path.join(output_dir, \"process-yolox.txt\")\n",
    "\n",
    "    # Write the extracted elements to the output file\n",
    "    #Escritura de elementos extraídos en el archivo de salida:Abre el archivo de salida en modo de escritura ('w').Escribe cada elemento en extracted_elements en el archivo de salida, añadiendo dos saltos de línea después de cada elemento para separarlos visualmente.\n",
    "    with open(output_filename, 'w') as output_file:\n",
    "        for element in extracted_elements:\n",
    "            # Adding two newlines for separation\n",
    "            output_file.write(element + \"\\n\\n\")\n"
   ]
  },
  {
   "cell_type": "markdown",
   "metadata": {},
   "source": [
    "## langchain section ##"
   ]
  },
  {
   "cell_type": "code",
   "execution_count": 8,
   "metadata": {},
   "outputs": [],
   "source": [
    "from langchain.text_splitter import CharacterTextSplitter\n",
    "from langchain.vectorstores import Chroma\n",
    "from langchain.document_loaders import TextLoader\n",
    "from langchain.chat_models import ChatOpenAI\n",
    "from langchain.chains import RetrievalQA\n",
    "from langchain.embeddings.openai import OpenAIEmbeddings"
   ]
  },
  {
   "cell_type": "code",
   "execution_count": 9,
   "metadata": {},
   "outputs": [],
   "source": [
    "process_json_file(f\"{filename}.json\")"
   ]
  },
  {
   "cell_type": "code",
   "execution_count": 10,
   "metadata": {},
   "outputs": [],
   "source": [
    "text_file = \"process-yolox.txt\""
   ]
  },
  {
   "cell_type": "code",
   "execution_count": 11,
   "metadata": {},
   "outputs": [],
   "source": [
    "loader = TextLoader(text_file)\n",
    "documents = loader.load()"
   ]
  },
  {
   "cell_type": "code",
   "execution_count": 12,
   "metadata": {},
   "outputs": [
    {
     "name": "stderr",
     "output_type": "stream",
     "text": [
      "Created a chunk of size 2437, which is longer than the specified 1000\n",
      "Created a chunk of size 1670, which is longer than the specified 1000\n",
      "Created a chunk of size 3253, which is longer than the specified 1000\n",
      "Created a chunk of size 2749, which is longer than the specified 1000\n",
      "Created a chunk of size 3616, which is longer than the specified 1000\n",
      "Created a chunk of size 3639, which is longer than the specified 1000\n",
      "Created a chunk of size 1648, which is longer than the specified 1000\n",
      "Created a chunk of size 1525, which is longer than the specified 1000\n",
      "Created a chunk of size 1417, which is longer than the specified 1000\n",
      "Created a chunk of size 1579, which is longer than the specified 1000\n",
      "Created a chunk of size 1376, which is longer than the specified 1000\n",
      "Created a chunk of size 1585, which is longer than the specified 1000\n",
      "Created a chunk of size 1595, which is longer than the specified 1000\n"
     ]
    }
   ],
   "source": [
    "# split it into chunks\n",
    "text_splitter = CharacterTextSplitter(chunk_size=1000, chunk_overlap=200)\n",
    "docs = text_splitter.split_documents(documents)"
   ]
  },
  {
   "cell_type": "code",
   "execution_count": 13,
   "metadata": {},
   "outputs": [
    {
     "name": "stderr",
     "output_type": "stream",
     "text": [
      "/home/ozz/anaconda3/envs/envopenai/lib/python3.11/site-packages/langchain_core/_api/deprecation.py:119: LangChainDeprecationWarning: The class `OpenAIEmbeddings` was deprecated in LangChain 0.0.9 and will be removed in 0.2.0. An updated version of the class exists in the langchain-openai package and should be used instead. To use it run `pip install -U langchain-openai` and import as `from langchain_openai import OpenAIEmbeddings`.\n",
      "  warn_deprecated(\n"
     ]
    }
   ],
   "source": [
    "from dotenv import load_dotenv\n",
    "import os\n",
    "\n",
    "load_dotenv()\n",
    "openai_key = os.getenv('OPENAI_API_KEY')\n",
    "embeddings = OpenAIEmbeddings()"
   ]
  },
  {
   "cell_type": "code",
   "execution_count": 14,
   "metadata": {},
   "outputs": [],
   "source": [
    "db = Chroma.from_documents(docs, embeddings)"
   ]
  },
  {
   "cell_type": "code",
   "execution_count": 23,
   "metadata": {},
   "outputs": [],
   "source": [
    "# Initialize your model and retriever\n",
    "llm = ChatOpenAI(model_name=\"gpt-4\", temperature=0)\n",
    "qa_chain = RetrievalQA.from_chain_type(llm, retriever=db.as_retriever())"
   ]
  },
  {
   "cell_type": "code",
   "execution_count": 21,
   "metadata": {},
   "outputs": [
    {
     "name": "stdout",
     "output_type": "stream",
     "text": [
      "[{'section': 'Resumen Ejecutivo', 'query': 'Proporciona una visión general de la empresa, destacando los aspectos más importantes de su desempeño financiero en el último año.', 'response': 'Lo siento, pero la información proporcionada no incluye detalles específicos sobre el desempeño financiero de la empresa en el último año, como los ingresos totales, las ganancias netas, los gastos operativos, etc. Solo se proporcionan los títulos de los estados financieros y algunas cifras relacionadas con las actividades de efectivo, pero no se proporciona suficiente contexto o detalles para proporcionar una visión general completa del desempeño financiero de la empresa.'}, {'section': 'Análisis de Ingresos', 'query': 'Analiza los ingresos operativos de la empresa y cómo estos han variado a lo largo del tiempo. Es importante destacar las principales fuentes de ingresos y cualquier cambio significativo en las operaciones.', 'response': 'Lo siento, pero los datos proporcionados no incluyen suficiente información detallada sobre los ingresos operativos de la empresa y cómo han variado a lo largo del tiempo. No se proporcionan detalles sobre las principales fuentes de ingresos ni cambios significativos en las operaciones.'}, {'section': 'Análisis de Costos y Gastos', 'query': 'Desglosa los costos operativos y gastos de la empresa. Incluye detalles sobre los costos de bienes vendidos, gastos administrativos y de ventas, y cualquier otro gasto relevante.', 'response': 'Los costos operativos y gastos de la empresa se desglosan de la siguiente manera:\\n\\nPara el año 2023:\\n\\n- En el primer conjunto de datos, los costos de bienes vendidos (Gross profit) fueron de $1,418 millones, los gastos de venta, generales y administrativos fueron de $806 millones y las ganancias operativas fueron de $612 millones.\\n\\n- En el segundo conjunto de datos, los costos de bienes vendidos fueron de $4,213 millones, los gastos de venta, generales y administrativos fueron de $2,380 millones y las ganancias operativas fueron de $1,833 millones.\\n\\n- En el tercer conjunto de datos, los costos de bienes vendidos fueron de $216 millones, los gastos de venta, generales y administrativos fueron de $161 millones y las ganancias operativas fueron de $55 millones.\\n\\n- En el cuarto conjunto de datos, los costos de bienes vendidos fueron de $654 millones, los gastos de venta, generales y administrativos fueron de $476 millones y las ganancias operativas fueron de $178 millones.\\n\\nPara el año 2022:\\n\\n- En el primer conjunto de datos, los costos de bienes vendidos fueron de $1,291 millones, los gastos de venta, generales y administrativos fueron de $741 millones y las ganancias operativas fueron de $550 millones.\\n\\n- En el segundo conjunto de datos, los costos de bienes vendidos fueron de $3,666 millones, los gastos de venta, generales y administrativos fueron de $2,160 millones y las ganancias operativas fueron de $1,506 millones.\\n\\n- En el tercer conjunto de datos, los costos de bienes vendidos fueron de $209 millones, los gastos de venta, generales y administrativos fueron de $152 millones y las ganancias operativas fueron de $58 millones.\\n\\n- En el cuarto conjunto de datos, los costos de bienes vendidos fueron de $615 millones, los gastos de venta, generales y administrativos fueron de $441 millones y las ganancias operativas fueron de $175 millones.'}, {'section': 'Análisis de Rentabilidad', 'query': 'Examina los ingresos netos para entender la rentabilidad de la empresa. Incluye cualquier factor que haya impactado significativamente en los ingresos netos, como costos extraordinarios o cambios en la estructura de costos.', 'response': 'Lo siento, pero los datos proporcionados no incluyen información sobre los ingresos netos, costos extraordinarios o cambios en la estructura de costos. Los datos proporcionados se centran en las ventas netas, las ganancias brutas, los gastos de venta, generales y administrativos, y las ganancias operativas para los años 2023 y 2022. Sin embargo, se puede observar que en todos los casos, las ventas netas y las ganancias operativas han aumentado año tras año, lo que podría indicar una mejora en la rentabilidad.'}, {'section': 'Análisis de Balance General', 'query': 'Analiza los activos y pasivos de la empresa, destacando cualquier cambio significativo en los últimos trimestres. Incluye detalles sobre activos corrientes, pasivos corrientes y el capital de trabajo neto.', 'response': 'Según los datos proporcionados, los activos corrientes de la empresa aumentaron de $4,977 millones en diciembre de 2022 a $5,412 millones en septiembre de 2023. Este aumento se debe en gran parte al aumento en efectivo y equivalentes de efectivo, que pasó de $325 millones a $601 millones, y un aumento en las cuentas por cobrar de $2,133 millones a $2,444 millones. Sin embargo, hubo una ligera disminución en los inventarios y los gastos prepagados y otros activos corrientes.\\n\\nEn cuanto a los pasivos corrientes, hubo una disminución de $2,010 millones en diciembre de 2022 a $1,898 millones en septiembre de 2023. Esto se debe principalmente a una disminución en las obligaciones acumuladas y los impuestos sobre la renta a pagar.\\n\\nEl capital de trabajo neto, que es la diferencia entre los activos corrientes y los pasivos corrientes, aumentó de $2,967 millones (4,977 - 2,010) en diciembre de 2022 a $3,514 millones (5,412 - 1,898) en septiembre de 2023. Este aumento en el capital de trabajo neto indica que la empresa ha mejorado su liquidez y está en una mejor posición para cubrir sus obligaciones a corto plazo.\\n\\nEn términos de pasivos a largo plazo, hubo un ligero descenso en la deuda a largo plazo de $2,284 millones a $2,260 millones. Sin embargo, hubo un aumento en las obligaciones de arrendamiento a largo plazo de $318 millones a $361 millones.\\n\\nEn general, la empresa ha mostrado una mejora en su posición financiera en los últimos trimestres, con un aumento en los activos corrientes y una disminución en los pasivos corrientes, lo que resulta en un aumento en el capital de trabajo neto. Sin embargo, la empresa también ha visto un aumento en sus obligaciones de arrendamiento a largo plazo.'}, {'section': 'Análisis de Flujos de Efectivo', 'query': 'Evalúa los flujos de efectivo de la empresa, incluyendo las actividades operativas, de inversión y de financiación. Destaca cualquier cambio significativo en los flujos de efectivo.', 'response': 'Los flujos de efectivo de la empresa se pueden dividir en tres categorías principales: actividades operativas, actividades de inversión y actividades de financiación.\\n\\n1. Actividades Operativas: En 2023, la empresa generó $1,427 en efectivo de sus actividades operativas, lo cual es un aumento significativo en comparación con los $973 generados en 2022. Esto indica que la empresa ha sido eficiente en la generación de efectivo a través de sus operaciones principales.\\n\\n2. Actividades de Inversión: La empresa utilizó $307 en efectivo para sus actividades de inversión en 2023, lo cual es un aumento en comparación con los $212 utilizados en 2022. Esto podría indicar que la empresa está invirtiendo más en activos a largo plazo para apoyar su crecimiento futuro.\\n\\n3. Actividades de Financiación: La empresa utilizó $839 en efectivo para sus actividades de financiación en 2023, lo cual es un aumento en comparación con los $668 utilizados en 2022. Esto podría ser el resultado de un aumento en la recompra de acciones, el pago de dividendos o el reembolso de deudas.\\n\\nEn general, la empresa experimentó un aumento en su efectivo y equivalentes de efectivo de $276 en 2023, en comparación con un aumento de $74 en 2022. Esto indica que la empresa ha mejorado su posición de efectivo en general, lo cual es una señal positiva para los inversores y acreedores. Sin embargo, el aumento en el uso de efectivo para actividades de inversión y financiación podría ser un área de preocupación si la empresa no puede generar suficiente efectivo de sus operaciones para cubrir estos usos en el futuro.'}, {'section': 'Factores de Riesgo', 'query': 'Identifica y analiza los principales factores de riesgo mencionados en el reporte 10-K. Incluye riesgos operativos, financieros y de mercado.', 'response': 'Lo siento, pero la información proporcionada no incluye detalles sobre los factores de riesgo mencionados en el reporte 10-K. No puedo proporcionar un análisis de los riesgos operativos, financieros y de mercado sin esa información.'}, {'section': 'Perspectivas Futuras', 'query': 'Resume las perspectivas futuras y la estrategia de la empresa según lo descrito en el informe de gestión del 10-K.', 'response': 'Lo siento, pero la información proporcionada no incluye detalles sobre las perspectivas futuras o la estrategia de la empresa según lo descrito en el informe de gestión del 10-K.'}]\n"
     ]
    }
   ],
   "source": [
    "\n",
    "# List of questions\n",
    "questions2 = [\n",
    "    {\n",
    "        \"section\": \"Resumen Ejecutivo\",\n",
    "        \"query\": \"Proporciona una visión general de la empresa, destacando los aspectos más importantes de su desempeño financiero en el último año.\"\n",
    "    },\n",
    "    {\n",
    "        \"section\": \"Análisis de Ingresos\",\n",
    "        \"query\": \"Analiza los ingresos operativos de la empresa y cómo estos han variado a lo largo del tiempo. Es importante destacar las principales fuentes de ingresos y cualquier cambio significativo en las operaciones.\"\n",
    "    },\n",
    "    {\n",
    "        \"section\": \"Análisis de Costos y Gastos\",\n",
    "        \"query\": \"Desglosa los costos operativos y gastos de la empresa. Incluye detalles sobre los costos de bienes vendidos, gastos administrativos y de ventas, y cualquier otro gasto relevante.\"\n",
    "    },\n",
    "    {\n",
    "        \"section\": \"Análisis de Rentabilidad\",\n",
    "        \"query\": \"Examina los ingresos netos para entender la rentabilidad de la empresa. Incluye cualquier factor que haya impactado significativamente en los ingresos netos, como costos extraordinarios o cambios en la estructura de costos.\"\n",
    "    },\n",
    "    {\n",
    "        \"section\": \"Análisis de Balance General\",\n",
    "        \"query\": \"Analiza los activos y pasivos de la empresa, destacando cualquier cambio significativo en los últimos trimestres. Incluye detalles sobre activos corrientes, pasivos corrientes y el capital de trabajo neto.\"\n",
    "    },\n",
    "    {\n",
    "        \"section\": \"Análisis de Flujos de Efectivo\",\n",
    "        \"query\": \"Evalúa los flujos de efectivo de la empresa, incluyendo las actividades operativas, de inversión y de financiación. Destaca cualquier cambio significativo en los flujos de efectivo.\"\n",
    "    },\n",
    "    {\n",
    "        \"section\": \"Factores de Riesgo\",\n",
    "        \"query\": \"Identifica y analiza los principales factores de riesgo mencionados en el reporte 10-K. Incluye riesgos operativos, financieros y de mercado.\"\n",
    "    },\n",
    "    {\n",
    "        \"section\": \"Perspectivas Futuras\",\n",
    "        \"query\": \"Resume las perspectivas futuras y la estrategia de la empresa según lo descrito en el informe de gestión del 10-K.\"\n",
    "    }\n",
    "]\n",
    "\n",
    "# Store responses in output_list\n",
    "output_list = []\n",
    "\n",
    "for question in questions2:\n",
    "    response = qa_chain({\"query\": question[\"query\"]})\n",
    "    output_list.append({\n",
    "        \"section\": question[\"section\"],\n",
    "        \"query\": question[\"query\"],\n",
    "        \"response\": response[\"result\"]\n",
    "    })\n",
    "\n",
    "# Print the output_list to verify the structure\n",
    "print(output_list)"
   ]
  },
  {
   "cell_type": "code",
   "execution_count": 16,
   "metadata": {},
   "outputs": [
    {
     "name": "stderr",
     "output_type": "stream",
     "text": [
      "/home/ozz/anaconda3/envs/envopenai/lib/python3.11/site-packages/langchain_core/_api/deprecation.py:119: LangChainDeprecationWarning: The method `Chain.__call__` was deprecated in langchain 0.1.0 and will be removed in 0.2.0. Use invoke instead.\n",
      "  warn_deprecated(\n"
     ]
    },
    {
     "name": "stdout",
     "output_type": "stream",
     "text": [
      "Pregunta: ¿Cuáles fueron los ingresos operativos de la empresa en 2022?\n",
      "Respuesta: Lo siento, pero la información proporcionada no incluye los ingresos operativos de la empresa para el año 2022.\n",
      "\n",
      "Pregunta: ¿Cuáles fueron los ingresos operativos de la empresa en 2023?\n",
      "Respuesta: Los ingresos operativos de la empresa en 2023 fueron de $2,008.\n",
      "\n",
      "Pregunta: ¿Cuáles fueron los gastos de venta, generales y administrativos en 2022?\n",
      "Respuesta: Los gastos de venta, generales y administrativos en 2022 fueron:\n",
      "\n",
      "- $152 en la primera tabla\n",
      "- $2,160 en la segunda tabla\n",
      "- $741 en la tercera tabla\n",
      "- $441 en la cuarta tabla\n",
      "\n",
      "Pregunta: ¿Cuáles fueron los gastos de venta, generales y administrativos en 2023?\n",
      "Respuesta: Los gastos de venta, generales y administrativos en 2023 fueron:\n",
      "\n",
      "- $161 en la primera tabla\n",
      "- $2,380 en la segunda tabla\n",
      "- $806 en la tercera tabla\n",
      "- $476 en la cuarta tabla\n",
      "\n",
      "Pregunta: ¿Cuál fue el ingreso neto en 2022?\n",
      "Respuesta: Lo siento, pero la información proporcionada no incluye detalles sobre el ingreso neto en 2022.\n",
      "\n",
      "Pregunta: ¿Cuál fue el ingreso neto en 2023?\n",
      "Respuesta: Lo siento, pero la información proporcionada no incluye detalles sobre el ingreso neto en 2023. Los datos disponibles se refieren a las ventas netas, las ganancias brutas, los gastos generales y administrativos, y las ganancias operativas.\n",
      "\n",
      "Pregunta: ¿Cuál fue el flujo de caja operativo en 2022?\n",
      "Respuesta: El flujo de caja operativo en 2022 fue de $973.\n",
      "\n",
      "Pregunta: ¿Cuál fue el flujo de caja operativo en 2023?\n",
      "Respuesta: El flujo de caja operativo en 2023 fue de $1,427.\n",
      "\n"
     ]
    }
   ],
   "source": [
    "# List of questions for numerical data\n",
    "questions3 = [\n",
    "    \"¿Cuáles fueron los ingresos operativos de la empresa en 2022?\",\n",
    "    \"¿Cuáles fueron los ingresos operativos de la empresa en 2023?\",\n",
    "    \"¿Cuáles fueron los gastos de venta, generales y administrativos en 2022?\",\n",
    "    \"¿Cuáles fueron los gastos de venta, generales y administrativos en 2023?\",\n",
    "    \"¿Cuál fue el ingreso neto en 2022?\",\n",
    "    \"¿Cuál fue el ingreso neto en 2023?\",\n",
    "    \"¿Cuál fue el flujo de caja operativo en 2022?\",\n",
    "    \"¿Cuál fue el flujo de caja operativo en 2023?\"\n",
    "]\n",
    "\n",
    "# Store responses in a list\n",
    "responses2 = []\n",
    "\n",
    "for query in questions3:\n",
    "    response = qa_chain({\"query\": query})\n",
    "    responses2.append(response[\"result\"])\n",
    "\n",
    "# Print the responses to verify\n",
    "for q, r in zip(questions3, responses2):\n",
    "    print(f\"Pregunta: {q}\\nRespuesta: {r}\\n\")"
   ]
  },
  {
   "cell_type": "markdown",
   "metadata": {},
   "source": [
    "Resumen Ejecutivo:\n",
    "Proporciona una visión general de la empresa, destacando los aspectos más importantes de su desempeño financiero."
   ]
  },
  {
   "cell_type": "markdown",
   "metadata": {},
   "source": [
    "Análisis de Ingresos:\n",
    "Discute el rendimiento de los ingresos de la empresa, tanto para el trimestre específico (Q4 FY23) como para el año completo (FY23). Compara los ingresos con periodos anteriores para identificar tendencias de crecimiento o declive."
   ]
  },
  {
   "cell_type": "markdown",
   "metadata": {},
   "source": [
    "\n",
    "Ingresos Operativos:\n",
    "Analiza los ingresos operativos de la empresa y cómo estos han variado a lo largo del tiempo. Es importante destacar las principales fuentes de ingresos y cualquier cambio significativo en las operaciones.\n"
   ]
  },
  {
   "cell_type": "markdown",
   "metadata": {},
   "source": [
    "Ingresos Netos:\n",
    "Examina los ingresos netos para entender la rentabilidad de la empresa. Incluye cualquier factor que haya impactado significativamente en los ingresos netos, como costos extraordinarios o cambios en la estructura de costos."
   ]
  },
  {
   "cell_type": "markdown",
   "metadata": {},
   "source": [
    "Indicadores Financieros Claves:\n",
    "Incluye y analiza otros indicadores financieros importantes, como el ratio actual, para proporcionar una imagen más completa de la salud financiera de la empresa."
   ]
  },
  {
   "cell_type": "markdown",
   "metadata": {},
   "source": [
    "Conclusiones y Recomendaciones:\n",
    "Resume tus hallazgos y proporciona recomendaciones basadas en el análisis. Esto puede incluir sugerencias sobre cómo la empresa puede mejorar su rendimiento financiero o áreas donde podrían existir riesgos potenciales."
   ]
  }
 ],
 "metadata": {
  "kernelspec": {
   "display_name": "envopenai",
   "language": "python",
   "name": "python3"
  },
  "language_info": {
   "codemirror_mode": {
    "name": "ipython",
    "version": 3
   },
   "file_extension": ".py",
   "mimetype": "text/x-python",
   "name": "python",
   "nbconvert_exporter": "python",
   "pygments_lexer": "ipython3",
   "version": "3.11.5"
  }
 },
 "nbformat": 4,
 "nbformat_minor": 2
}
